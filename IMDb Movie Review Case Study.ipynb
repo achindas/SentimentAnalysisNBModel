{
 "cells": [
  {
   "cell_type": "markdown",
   "id": "d7c37b11-0298-4295-8d75-12569e363bc3",
   "metadata": {},
   "source": [
    "## IMBd Moview Review Classifier: Multinomial Naive Bayes"
   ]
  },
  {
   "cell_type": "markdown",
   "id": "e834ac4d-f05d-4fe5-aa8c-812e0ff31439",
   "metadata": {},
   "source": [
    "### Background\n",
    "\n",
    "This was one of the first widely-available **sentiment analysis** datasets compiled by Pang and Lee's. The data was first collected in 2002, however, the text is similar to movies reviews we find on IMDB today. \n",
    "\n",
    "The dataset is in a CSV format. It has two categories: Pos (reviews that express a positive or favourable sentiment) and Neg (reviews that express a negative or unfavourable sentiment). For this exercise, we assume that all reviews are either positive or negative; there are no neutral reviews.\n",
    "\n",
    " \n",
    "### Objective\n",
    "\n",
    "We need to build a Multinomial Naive Bayes classification model in Python for predicting the sentiment inherent to the reviews\n",
    "\n",
    "### Approach\n",
    "\n",
    "The following steps are followed to build the Naive Bayes model for IMDb sentiment analysis:\n",
    "\n",
    "1. Import & Preprocess Data\n",
    "2. Build Bernoulli's Model\n",
    "3. Evaluate Bernoulli's Model\n",
    "4. Build Multinomial Model\n",
    "5. Evaluate Multinomial Model\n",
    "6. Conclusion"
   ]
  },
  {
   "cell_type": "markdown",
   "id": "9e80a85e-0d12-4c62-a22f-a044e99de679",
   "metadata": {},
   "source": [
    "### 1. Importing and Preprocessing Data "
   ]
  },
  {
   "cell_type": "code",
   "execution_count": 266,
   "id": "153aa8f8-a1ff-4b0f-a84f-d7e7b2be2627",
   "metadata": {},
   "outputs": [],
   "source": [
    "import numpy as np\n",
    "import pandas as pd\n",
    "from sklearn.feature_extraction.text import CountVectorizer\n",
    "from sklearn.naive_bayes import BernoulliNB\n",
    "from sklearn.naive_bayes import MultinomialNB\n",
    "from sklearn import metrics"
   ]
  },
  {
   "cell_type": "code",
   "execution_count": 267,
   "id": "e9313d88-1112-4026-bc1f-7cc6f1506caf",
   "metadata": {},
   "outputs": [
    {
     "data": {
      "text/html": [
       "<div>\n",
       "<style scoped>\n",
       "    .dataframe tbody tr th:only-of-type {\n",
       "        vertical-align: middle;\n",
       "    }\n",
       "\n",
       "    .dataframe tbody tr th {\n",
       "        vertical-align: top;\n",
       "    }\n",
       "\n",
       "    .dataframe thead th {\n",
       "        text-align: right;\n",
       "    }\n",
       "</style>\n",
       "<table border=\"1\" class=\"dataframe\">\n",
       "  <thead>\n",
       "    <tr style=\"text-align: right;\">\n",
       "      <th></th>\n",
       "      <th>class</th>\n",
       "      <th>text</th>\n",
       "    </tr>\n",
       "  </thead>\n",
       "  <tbody>\n",
       "    <tr>\n",
       "      <th>0</th>\n",
       "      <td>Pos</td>\n",
       "      <td>a common complaint amongst film critics is   ...</td>\n",
       "    </tr>\n",
       "    <tr>\n",
       "      <th>1</th>\n",
       "      <td>Pos</td>\n",
       "      <td>whew   this film oozes energy   the kind of b...</td>\n",
       "    </tr>\n",
       "    <tr>\n",
       "      <th>2</th>\n",
       "      <td>Pos</td>\n",
       "      <td>steven spielberg s   amistad     which is bas...</td>\n",
       "    </tr>\n",
       "    <tr>\n",
       "      <th>3</th>\n",
       "      <td>Pos</td>\n",
       "      <td>he has spent his entire life in an awful litt...</td>\n",
       "    </tr>\n",
       "    <tr>\n",
       "      <th>4</th>\n",
       "      <td>Pos</td>\n",
       "      <td>being that it is a foreign language film with...</td>\n",
       "    </tr>\n",
       "  </tbody>\n",
       "</table>\n",
       "</div>"
      ],
      "text/plain": [
       "  class                                               text\n",
       "0   Pos   a common complaint amongst film critics is   ...\n",
       "1   Pos   whew   this film oozes energy   the kind of b...\n",
       "2   Pos   steven spielberg s   amistad     which is bas...\n",
       "3   Pos   he has spent his entire life in an awful litt...\n",
       "4   Pos   being that it is a foreign language film with..."
      ]
     },
     "execution_count": 267,
     "metadata": {},
     "output_type": "execute_result"
    }
   ],
   "source": [
    "# Reading the training data\n",
    "reviews = pd.read_csv('movie_review_train.csv')\n",
    "reviews.head()"
   ]
  },
  {
   "cell_type": "code",
   "execution_count": 268,
   "id": "7e0f4e36-a8e5-4c21-b8a7-4eaf615d8b54",
   "metadata": {},
   "outputs": [
    {
     "name": "stdout",
     "output_type": "stream",
     "text": [
      "(1600, 2)\n",
      "<class 'pandas.core.frame.DataFrame'>\n",
      "RangeIndex: 1600 entries, 0 to 1599\n",
      "Data columns (total 2 columns):\n",
      " #   Column  Non-Null Count  Dtype \n",
      "---  ------  --------------  ----- \n",
      " 0   class   1600 non-null   object\n",
      " 1   text    1600 non-null   object\n",
      "dtypes: object(2)\n",
      "memory usage: 25.1+ KB\n"
     ]
    }
   ],
   "source": [
    "# Checking the data (reviews) volume & quality\n",
    "print(reviews.shape)\n",
    "\n",
    "reviews.info()"
   ]
  },
  {
   "cell_type": "markdown",
   "id": "73e17df5-acaf-48f3-a5d2-c5cccc778bc7",
   "metadata": {},
   "source": [
    "**Observation:** There are no missing data in the set"
   ]
  },
  {
   "cell_type": "code",
   "execution_count": 270,
   "id": "300d0b65-3cb8-45d9-80da-efe1fde868fc",
   "metadata": {},
   "outputs": [
    {
     "data": {
      "text/plain": [
       "class\n",
       "Pos    800\n",
       "Neg    800\n",
       "Name: count, dtype: int64"
      ]
     },
     "execution_count": 270,
     "metadata": {},
     "output_type": "execute_result"
    }
   ],
   "source": [
    "# Check the distribution of Pos(itive) and Neg(ative) reviews\n",
    "\n",
    "reviews['class'].value_counts()"
   ]
  },
  {
   "cell_type": "markdown",
   "id": "3b46016e-555c-48a5-aca9-47a4e927761e",
   "metadata": {},
   "source": [
    "Pos & Neg data sets are each 50% in numbers making it a very balanced dataset"
   ]
  },
  {
   "cell_type": "code",
   "execution_count": 272,
   "id": "7098a15a-1f13-45f4-94d2-e791e9321b91",
   "metadata": {},
   "outputs": [
    {
     "data": {
      "text/plain": [
       "label\n",
       "1    800\n",
       "0    800\n",
       "Name: count, dtype: int64"
      ]
     },
     "execution_count": 272,
     "metadata": {},
     "output_type": "execute_result"
    }
   ],
   "source": [
    "# Mapping the labels to 1 (Pos) and 0 (Neg) as Classifier understand only numeric values\n",
    "\n",
    "reviews['label'] = reviews['class'].map({\"Pos\" : 1, \"Neg\" : 0})\n",
    "\n",
    "reviews.label.value_counts()"
   ]
  },
  {
   "cell_type": "code",
   "execution_count": 273,
   "id": "9a7ad86d-b26e-4e23-a1e5-e33ce9b49ebb",
   "metadata": {},
   "outputs": [
    {
     "name": "stdout",
     "output_type": "stream",
     "text": [
      "<class 'pandas.core.frame.DataFrame'>\n",
      "RangeIndex: 1600 entries, 0 to 1599\n",
      "Data columns (total 2 columns):\n",
      " #   Column  Non-Null Count  Dtype \n",
      "---  ------  --------------  ----- \n",
      " 0   text    1600 non-null   object\n",
      " 1   label   1600 non-null   int64 \n",
      "dtypes: int64(1), object(1)\n",
      "memory usage: 25.1+ KB\n"
     ]
    }
   ],
   "source": [
    "# Drop the class column as it's no more required\n",
    "reviews.drop('class', axis=1, inplace=True)\n",
    "\n",
    "reviews.info()"
   ]
  },
  {
   "cell_type": "code",
   "execution_count": 274,
   "id": "085ad046-be45-4b91-9509-9ae60a50fbb6",
   "metadata": {},
   "outputs": [
    {
     "name": "stdout",
     "output_type": "stream",
     "text": [
      "(1600,)\n",
      "(1600,)\n"
     ]
    }
   ],
   "source": [
    "# Create the X and y vectors for training\n",
    "X_train = reviews.text\n",
    "y_train = reviews.label\n",
    "\n",
    "print(X_train.shape)\n",
    "print(y_train.shape)"
   ]
  },
  {
   "cell_type": "code",
   "execution_count": 275,
   "id": "1830d447-c326-4344-bf12-433358ef806c",
   "metadata": {},
   "outputs": [
    {
     "data": {
      "text/plain": [
       "0     a common complaint amongst film critics is   ...\n",
       "1     whew   this film oozes energy   the kind of b...\n",
       "2     steven spielberg s   amistad     which is bas...\n",
       "3     he has spent his entire life in an awful litt...\n",
       "4     being that it is a foreign language film with...\n",
       "Name: text, dtype: object"
      ]
     },
     "execution_count": 275,
     "metadata": {},
     "output_type": "execute_result"
    }
   ],
   "source": [
    "X_train.head()"
   ]
  },
  {
   "cell_type": "code",
   "execution_count": 276,
   "id": "41bb13c8-6ac5-4393-b7bc-e53dc1469bca",
   "metadata": {},
   "outputs": [
    {
     "data": {
      "text/plain": [
       "0    1\n",
       "1    1\n",
       "2    1\n",
       "3    1\n",
       "4    1\n",
       "Name: label, dtype: int64"
      ]
     },
     "execution_count": 276,
     "metadata": {},
     "output_type": "execute_result"
    }
   ],
   "source": [
    "y_train.head()"
   ]
  },
  {
   "cell_type": "code",
   "execution_count": 277,
   "id": "bd3a7028-47a0-46e2-96c7-09962b4d0f6d",
   "metadata": {},
   "outputs": [
    {
     "data": {
      "text/html": [
       "<style>#sk-container-id-7 {color: black;background-color: white;}#sk-container-id-7 pre{padding: 0;}#sk-container-id-7 div.sk-toggleable {background-color: white;}#sk-container-id-7 label.sk-toggleable__label {cursor: pointer;display: block;width: 100%;margin-bottom: 0;padding: 0.3em;box-sizing: border-box;text-align: center;}#sk-container-id-7 label.sk-toggleable__label-arrow:before {content: \"▸\";float: left;margin-right: 0.25em;color: #696969;}#sk-container-id-7 label.sk-toggleable__label-arrow:hover:before {color: black;}#sk-container-id-7 div.sk-estimator:hover label.sk-toggleable__label-arrow:before {color: black;}#sk-container-id-7 div.sk-toggleable__content {max-height: 0;max-width: 0;overflow: hidden;text-align: left;background-color: #f0f8ff;}#sk-container-id-7 div.sk-toggleable__content pre {margin: 0.2em;color: black;border-radius: 0.25em;background-color: #f0f8ff;}#sk-container-id-7 input.sk-toggleable__control:checked~div.sk-toggleable__content {max-height: 200px;max-width: 100%;overflow: auto;}#sk-container-id-7 input.sk-toggleable__control:checked~label.sk-toggleable__label-arrow:before {content: \"▾\";}#sk-container-id-7 div.sk-estimator input.sk-toggleable__control:checked~label.sk-toggleable__label {background-color: #d4ebff;}#sk-container-id-7 div.sk-label input.sk-toggleable__control:checked~label.sk-toggleable__label {background-color: #d4ebff;}#sk-container-id-7 input.sk-hidden--visually {border: 0;clip: rect(1px 1px 1px 1px);clip: rect(1px, 1px, 1px, 1px);height: 1px;margin: -1px;overflow: hidden;padding: 0;position: absolute;width: 1px;}#sk-container-id-7 div.sk-estimator {font-family: monospace;background-color: #f0f8ff;border: 1px dotted black;border-radius: 0.25em;box-sizing: border-box;margin-bottom: 0.5em;}#sk-container-id-7 div.sk-estimator:hover {background-color: #d4ebff;}#sk-container-id-7 div.sk-parallel-item::after {content: \"\";width: 100%;border-bottom: 1px solid gray;flex-grow: 1;}#sk-container-id-7 div.sk-label:hover label.sk-toggleable__label {background-color: #d4ebff;}#sk-container-id-7 div.sk-serial::before {content: \"\";position: absolute;border-left: 1px solid gray;box-sizing: border-box;top: 0;bottom: 0;left: 50%;z-index: 0;}#sk-container-id-7 div.sk-serial {display: flex;flex-direction: column;align-items: center;background-color: white;padding-right: 0.2em;padding-left: 0.2em;position: relative;}#sk-container-id-7 div.sk-item {position: relative;z-index: 1;}#sk-container-id-7 div.sk-parallel {display: flex;align-items: stretch;justify-content: center;background-color: white;position: relative;}#sk-container-id-7 div.sk-item::before, #sk-container-id-7 div.sk-parallel-item::before {content: \"\";position: absolute;border-left: 1px solid gray;box-sizing: border-box;top: 0;bottom: 0;left: 50%;z-index: -1;}#sk-container-id-7 div.sk-parallel-item {display: flex;flex-direction: column;z-index: 1;position: relative;background-color: white;}#sk-container-id-7 div.sk-parallel-item:first-child::after {align-self: flex-end;width: 50%;}#sk-container-id-7 div.sk-parallel-item:last-child::after {align-self: flex-start;width: 50%;}#sk-container-id-7 div.sk-parallel-item:only-child::after {width: 0;}#sk-container-id-7 div.sk-dashed-wrapped {border: 1px dashed gray;margin: 0 0.4em 0.5em 0.4em;box-sizing: border-box;padding-bottom: 0.4em;background-color: white;}#sk-container-id-7 div.sk-label label {font-family: monospace;font-weight: bold;display: inline-block;line-height: 1.2em;}#sk-container-id-7 div.sk-label-container {text-align: center;}#sk-container-id-7 div.sk-container {/* jupyter's `normalize.less` sets `[hidden] { display: none; }` but bootstrap.min.css set `[hidden] { display: none !important; }` so we also need the `!important` here to be able to override the default hidden behavior on the sphinx rendered scikit-learn.org. See: https://github.com/scikit-learn/scikit-learn/issues/21755 */display: inline-block !important;position: relative;}#sk-container-id-7 div.sk-text-repr-fallback {display: none;}</style><div id=\"sk-container-id-7\" class=\"sk-top-container\"><div class=\"sk-text-repr-fallback\"><pre>CountVectorizer(stop_words=&#x27;english&#x27;)</pre><b>In a Jupyter environment, please rerun this cell to show the HTML representation or trust the notebook. <br />On GitHub, the HTML representation is unable to render, please try loading this page with nbviewer.org.</b></div><div class=\"sk-container\" hidden><div class=\"sk-item\"><div class=\"sk-estimator sk-toggleable\"><input class=\"sk-toggleable__control sk-hidden--visually\" id=\"sk-estimator-id-7\" type=\"checkbox\" checked><label for=\"sk-estimator-id-7\" class=\"sk-toggleable__label sk-toggleable__label-arrow\">CountVectorizer</label><div class=\"sk-toggleable__content\"><pre>CountVectorizer(stop_words=&#x27;english&#x27;)</pre></div></div></div></div></div>"
      ],
      "text/plain": [
       "CountVectorizer(stop_words='english')"
      ]
     },
     "execution_count": 277,
     "metadata": {},
     "output_type": "execute_result"
    }
   ],
   "source": [
    "# Vectorize the review sentences after removing stop words\n",
    "vect = CountVectorizer(stop_words='english')\n",
    "vect.fit(X_train)"
   ]
  },
  {
   "cell_type": "code",
   "execution_count": 278,
   "id": "2b96f858-3bbe-4239-93bc-c51bd8ef5e73",
   "metadata": {},
   "outputs": [
    {
     "name": "stdout",
     "output_type": "stream",
     "text": [
      "['common', 'complaint', 'film', 'critics', 'aren', 'literate', 'scripts', 'available', 'quiz', 'gives']\n"
     ]
    }
   ],
   "source": [
    "# List the initial few word features from vect\n",
    "print(list(vect.vocabulary_)[:10])"
   ]
  },
  {
   "cell_type": "code",
   "execution_count": 279,
   "id": "bce0aed3-cb21-4a35-8387-ef6f54816551",
   "metadata": {},
   "outputs": [
    {
     "data": {
      "text/plain": [
       "35858"
      ]
     },
     "execution_count": 279,
     "metadata": {},
     "output_type": "execute_result"
    }
   ],
   "source": [
    "# Check the vocab size\n",
    "len(vect.vocabulary_.keys())"
   ]
  },
  {
   "cell_type": "markdown",
   "id": "cde24444-d062-4d18-bf71-845ea09267e1",
   "metadata": {},
   "source": [
    "We don't want to consider those (rare) words which have appeared only in 3% of the reviews, and those extremely common ones which have appeared in 80% of the documents. Accordingly re-vectorize the training data set"
   ]
  },
  {
   "cell_type": "code",
   "execution_count": 281,
   "id": "81962e56-d501-4786-9c78-9b380af77d10",
   "metadata": {},
   "outputs": [
    {
     "data": {
      "text/plain": [
       "1643"
      ]
     },
     "execution_count": 281,
     "metadata": {},
     "output_type": "execute_result"
    }
   ],
   "source": [
    "vect = CountVectorizer(stop_words='english', min_df=.03, max_df=.8)\n",
    "vect.fit(X_train)\n",
    "\n",
    "# Check the vocab size\n",
    "len(vect.vocabulary_.keys())"
   ]
  },
  {
   "cell_type": "code",
   "execution_count": 282,
   "id": "6105e51a-647a-4c4c-bfdc-f2dba58b83d1",
   "metadata": {},
   "outputs": [
    {
     "data": {
      "text/plain": [
       "<1600x1643 sparse matrix of type '<class 'numpy.int64'>'\n",
       "\twith 217396 stored elements in Compressed Sparse Row format>"
      ]
     },
     "execution_count": 282,
     "metadata": {},
     "output_type": "execute_result"
    }
   ],
   "source": [
    "# Transform the training data using this vectorizer (min_df=.03, max_df=.8)\n",
    "X_train_nb = vect.transform(X_train)\n",
    "\n",
    "# Check the X_train_nb data set which is in compressed sparse row format\n",
    "X_train_nb"
   ]
  },
  {
   "cell_type": "markdown",
   "id": "6a4f616a-9dee-4aab-8197-4041d4c39afa",
   "metadata": {
    "jp-MarkdownHeadingCollapsed": true
   },
   "source": [
    "### 2. Building Bernoulli's Naive Bayes Model"
   ]
  },
  {
   "cell_type": "code",
   "execution_count": 284,
   "id": "2e35cb19-4387-47ff-8519-0fa96ee1fbd6",
   "metadata": {},
   "outputs": [
    {
     "data": {
      "text/html": [
       "<style>#sk-container-id-8 {color: black;background-color: white;}#sk-container-id-8 pre{padding: 0;}#sk-container-id-8 div.sk-toggleable {background-color: white;}#sk-container-id-8 label.sk-toggleable__label {cursor: pointer;display: block;width: 100%;margin-bottom: 0;padding: 0.3em;box-sizing: border-box;text-align: center;}#sk-container-id-8 label.sk-toggleable__label-arrow:before {content: \"▸\";float: left;margin-right: 0.25em;color: #696969;}#sk-container-id-8 label.sk-toggleable__label-arrow:hover:before {color: black;}#sk-container-id-8 div.sk-estimator:hover label.sk-toggleable__label-arrow:before {color: black;}#sk-container-id-8 div.sk-toggleable__content {max-height: 0;max-width: 0;overflow: hidden;text-align: left;background-color: #f0f8ff;}#sk-container-id-8 div.sk-toggleable__content pre {margin: 0.2em;color: black;border-radius: 0.25em;background-color: #f0f8ff;}#sk-container-id-8 input.sk-toggleable__control:checked~div.sk-toggleable__content {max-height: 200px;max-width: 100%;overflow: auto;}#sk-container-id-8 input.sk-toggleable__control:checked~label.sk-toggleable__label-arrow:before {content: \"▾\";}#sk-container-id-8 div.sk-estimator input.sk-toggleable__control:checked~label.sk-toggleable__label {background-color: #d4ebff;}#sk-container-id-8 div.sk-label input.sk-toggleable__control:checked~label.sk-toggleable__label {background-color: #d4ebff;}#sk-container-id-8 input.sk-hidden--visually {border: 0;clip: rect(1px 1px 1px 1px);clip: rect(1px, 1px, 1px, 1px);height: 1px;margin: -1px;overflow: hidden;padding: 0;position: absolute;width: 1px;}#sk-container-id-8 div.sk-estimator {font-family: monospace;background-color: #f0f8ff;border: 1px dotted black;border-radius: 0.25em;box-sizing: border-box;margin-bottom: 0.5em;}#sk-container-id-8 div.sk-estimator:hover {background-color: #d4ebff;}#sk-container-id-8 div.sk-parallel-item::after {content: \"\";width: 100%;border-bottom: 1px solid gray;flex-grow: 1;}#sk-container-id-8 div.sk-label:hover label.sk-toggleable__label {background-color: #d4ebff;}#sk-container-id-8 div.sk-serial::before {content: \"\";position: absolute;border-left: 1px solid gray;box-sizing: border-box;top: 0;bottom: 0;left: 50%;z-index: 0;}#sk-container-id-8 div.sk-serial {display: flex;flex-direction: column;align-items: center;background-color: white;padding-right: 0.2em;padding-left: 0.2em;position: relative;}#sk-container-id-8 div.sk-item {position: relative;z-index: 1;}#sk-container-id-8 div.sk-parallel {display: flex;align-items: stretch;justify-content: center;background-color: white;position: relative;}#sk-container-id-8 div.sk-item::before, #sk-container-id-8 div.sk-parallel-item::before {content: \"\";position: absolute;border-left: 1px solid gray;box-sizing: border-box;top: 0;bottom: 0;left: 50%;z-index: -1;}#sk-container-id-8 div.sk-parallel-item {display: flex;flex-direction: column;z-index: 1;position: relative;background-color: white;}#sk-container-id-8 div.sk-parallel-item:first-child::after {align-self: flex-end;width: 50%;}#sk-container-id-8 div.sk-parallel-item:last-child::after {align-self: flex-start;width: 50%;}#sk-container-id-8 div.sk-parallel-item:only-child::after {width: 0;}#sk-container-id-8 div.sk-dashed-wrapped {border: 1px dashed gray;margin: 0 0.4em 0.5em 0.4em;box-sizing: border-box;padding-bottom: 0.4em;background-color: white;}#sk-container-id-8 div.sk-label label {font-family: monospace;font-weight: bold;display: inline-block;line-height: 1.2em;}#sk-container-id-8 div.sk-label-container {text-align: center;}#sk-container-id-8 div.sk-container {/* jupyter's `normalize.less` sets `[hidden] { display: none; }` but bootstrap.min.css set `[hidden] { display: none !important; }` so we also need the `!important` here to be able to override the default hidden behavior on the sphinx rendered scikit-learn.org. See: https://github.com/scikit-learn/scikit-learn/issues/21755 */display: inline-block !important;position: relative;}#sk-container-id-8 div.sk-text-repr-fallback {display: none;}</style><div id=\"sk-container-id-8\" class=\"sk-top-container\"><div class=\"sk-text-repr-fallback\"><pre>BernoulliNB()</pre><b>In a Jupyter environment, please rerun this cell to show the HTML representation or trust the notebook. <br />On GitHub, the HTML representation is unable to render, please try loading this page with nbviewer.org.</b></div><div class=\"sk-container\" hidden><div class=\"sk-item\"><div class=\"sk-estimator sk-toggleable\"><input class=\"sk-toggleable__control sk-hidden--visually\" id=\"sk-estimator-id-8\" type=\"checkbox\" checked><label for=\"sk-estimator-id-8\" class=\"sk-toggleable__label sk-toggleable__label-arrow\">BernoulliNB</label><div class=\"sk-toggleable__content\"><pre>BernoulliNB()</pre></div></div></div></div></div>"
      ],
      "text/plain": [
       "BernoulliNB()"
      ]
     },
     "execution_count": 284,
     "metadata": {},
     "output_type": "execute_result"
    }
   ],
   "source": [
    "# instantiate bernoulli NB object\n",
    "bnb = BernoulliNB()\n",
    "\n",
    "# fit the model using training data\n",
    "bnb.fit(X_train_nb,y_train)"
   ]
  },
  {
   "cell_type": "code",
   "execution_count": 285,
   "id": "5d2a8fa0-a952-4cd6-a847-940955edfb3c",
   "metadata": {},
   "outputs": [
    {
     "name": "stdout",
     "output_type": "stream",
     "text": [
      "1.0\n"
     ]
    }
   ],
   "source": [
    "# It's to be noted that the alpha is by default = 1\n",
    "print(bnb.alpha)"
   ]
  },
  {
   "cell_type": "markdown",
   "id": "0a75b17f-201f-43da-ac61-b006b54741d1",
   "metadata": {},
   "source": [
    "### 3. Evaluating the Naive Bayes Model"
   ]
  },
  {
   "cell_type": "code",
   "execution_count": 287,
   "id": "87bdc972-c4d4-47a3-bb18-683d50a16492",
   "metadata": {},
   "outputs": [
    {
     "data": {
      "text/html": [
       "<div>\n",
       "<style scoped>\n",
       "    .dataframe tbody tr th:only-of-type {\n",
       "        vertical-align: middle;\n",
       "    }\n",
       "\n",
       "    .dataframe tbody tr th {\n",
       "        vertical-align: top;\n",
       "    }\n",
       "\n",
       "    .dataframe thead th {\n",
       "        text-align: right;\n",
       "    }\n",
       "</style>\n",
       "<table border=\"1\" class=\"dataframe\">\n",
       "  <thead>\n",
       "    <tr style=\"text-align: right;\">\n",
       "      <th></th>\n",
       "      <th>class</th>\n",
       "      <th>text</th>\n",
       "    </tr>\n",
       "  </thead>\n",
       "  <tbody>\n",
       "    <tr>\n",
       "      <th>0</th>\n",
       "      <td>Pos</td>\n",
       "      <td>films adapted from comic books have had plent...</td>\n",
       "    </tr>\n",
       "    <tr>\n",
       "      <th>1</th>\n",
       "      <td>Pos</td>\n",
       "      <td>every now and then a movie comes along from a...</td>\n",
       "    </tr>\n",
       "    <tr>\n",
       "      <th>2</th>\n",
       "      <td>Pos</td>\n",
       "      <td>you ve got mail works alot better than it des...</td>\n",
       "    </tr>\n",
       "    <tr>\n",
       "      <th>3</th>\n",
       "      <td>Pos</td>\n",
       "      <td>jaws   is a rare film that grabs your atte...</td>\n",
       "    </tr>\n",
       "    <tr>\n",
       "      <th>4</th>\n",
       "      <td>Pos</td>\n",
       "      <td>moviemaking is a lot like being the general m...</td>\n",
       "    </tr>\n",
       "  </tbody>\n",
       "</table>\n",
       "</div>"
      ],
      "text/plain": [
       "  class                                               text\n",
       "0   Pos   films adapted from comic books have had plent...\n",
       "1   Pos   every now and then a movie comes along from a...\n",
       "2   Pos   you ve got mail works alot better than it des...\n",
       "3   Pos      jaws   is a rare film that grabs your atte...\n",
       "4   Pos   moviemaking is a lot like being the general m..."
      ]
     },
     "execution_count": 287,
     "metadata": {},
     "output_type": "execute_result"
    }
   ],
   "source": [
    "# Read the test data\n",
    "reviews_test = pd.read_csv('movie_review_test.csv')\n",
    "\n",
    "reviews_test.head()"
   ]
  },
  {
   "cell_type": "code",
   "execution_count": 288,
   "id": "ec91e450-ee7b-403a-8012-65aa2450b6a4",
   "metadata": {},
   "outputs": [
    {
     "data": {
      "text/plain": [
       "(400, 2)"
      ]
     },
     "execution_count": 288,
     "metadata": {},
     "output_type": "execute_result"
    }
   ],
   "source": [
    "# Check the test data volume\n",
    "reviews_test.shape"
   ]
  },
  {
   "cell_type": "code",
   "execution_count": 289,
   "id": "ffb86c68-0854-4699-b798-6edd14274489",
   "metadata": {},
   "outputs": [
    {
     "data": {
      "text/plain": [
       "label\n",
       "1    200\n",
       "0    200\n",
       "Name: count, dtype: int64"
      ]
     },
     "execution_count": 289,
     "metadata": {},
     "output_type": "execute_result"
    }
   ],
   "source": [
    "# Mapping the test data labels to 1 (Pos) and 0 (Neg)\n",
    "\n",
    "reviews_test['label'] = reviews_test['class'].map({\"Pos\" : 1, \"Neg\" : 0})\n",
    "\n",
    "reviews_test.label.value_counts()"
   ]
  },
  {
   "cell_type": "code",
   "execution_count": 290,
   "id": "f14d3588-0824-4753-957c-1ba40c9ec95d",
   "metadata": {},
   "outputs": [
    {
     "name": "stdout",
     "output_type": "stream",
     "text": [
      "<class 'pandas.core.frame.DataFrame'>\n",
      "RangeIndex: 400 entries, 0 to 399\n",
      "Data columns (total 2 columns):\n",
      " #   Column  Non-Null Count  Dtype \n",
      "---  ------  --------------  ----- \n",
      " 0   text    400 non-null    object\n",
      " 1   label   400 non-null    int64 \n",
      "dtypes: int64(1), object(1)\n",
      "memory usage: 6.4+ KB\n"
     ]
    }
   ],
   "source": [
    "# Drop the class column as it's not required for further evaluation\n",
    "reviews_test.drop('class', axis=1, inplace=True)\n",
    "\n",
    "reviews_test.info()"
   ]
  },
  {
   "cell_type": "code",
   "execution_count": 291,
   "id": "17425ffe-3dd8-4a7a-ba89-3648f4e465d5",
   "metadata": {},
   "outputs": [
    {
     "name": "stdout",
     "output_type": "stream",
     "text": [
      "(400,)\n",
      "(400,)\n"
     ]
    }
   ],
   "source": [
    "# Create the X and y vectors for test\n",
    "X_test = reviews_test.text\n",
    "y_test = reviews_test.label\n",
    "\n",
    "print(X_test.shape)\n",
    "print(y_test.shape)"
   ]
  },
  {
   "cell_type": "code",
   "execution_count": 292,
   "id": "a4526bbc-f284-4aca-a523-f19f28ed74ed",
   "metadata": {},
   "outputs": [
    {
     "data": {
      "text/plain": [
       "<400x1643 sparse matrix of type '<class 'numpy.int64'>'\n",
       "\twith 51663 stored elements in Compressed Sparse Row format>"
      ]
     },
     "execution_count": 292,
     "metadata": {},
     "output_type": "execute_result"
    }
   ],
   "source": [
    "# Transform the test data using Vectorizer using min_df=.03, max_df=.8\n",
    "X_test_nb = vect.transform(X_test)\n",
    "\n",
    "# Check the X_test_nb data set\n",
    "X_test_nb"
   ]
  },
  {
   "cell_type": "code",
   "execution_count": 293,
   "id": "ddf555b3-06a7-48b8-873e-b848a3cb79d2",
   "metadata": {},
   "outputs": [
    {
     "data": {
      "text/plain": [
       "0.79"
      ]
     },
     "execution_count": 293,
     "metadata": {},
     "output_type": "execute_result"
    }
   ],
   "source": [
    "# predict classes using test data set\n",
    "y_pred_class = bnb.predict(X_test_nb)\n",
    "\n",
    "# predict probability\n",
    "y_pred_proba =bnb.predict_proba(X_test_nb)\n",
    "\n",
    "# accuracy\n",
    "metrics.accuracy_score(y_test, y_pred_class)"
   ]
  },
  {
   "cell_type": "code",
   "execution_count": 294,
   "id": "2b4d3107-6b8b-42c7-a61e-5cd9cdf16033",
   "metadata": {},
   "outputs": [
    {
     "data": {
      "text/plain": [
       "array([[177,  23],\n",
       "       [ 61, 139]])"
      ]
     },
     "execution_count": 294,
     "metadata": {},
     "output_type": "execute_result"
    }
   ],
   "source": [
    "# confusion matrix - help(metrics.confusion_matrix)\n",
    "confusion = metrics.confusion_matrix(y_test, y_pred_class)\n",
    "confusion"
   ]
  },
  {
   "cell_type": "code",
   "execution_count": 295,
   "id": "20a67958-6590-4457-b594-fd097ec7fd81",
   "metadata": {},
   "outputs": [],
   "source": [
    "# Cells of Confusion Matrix\n",
    "# C{i, j} is the number which is known to be in class i but are predicted in class j. \n",
    "# E.g. in this case, {0,1} is thus actually 0 (negative) and predicted 1 (positive).\n",
    "TN = confusion[0, 0]\n",
    "FP = confusion[0, 1]\n",
    "FN = confusion[1, 0]\n",
    "TP = confusion[1, 1]"
   ]
  },
  {
   "cell_type": "code",
   "execution_count": 296,
   "id": "d2c295e7-3d34-420f-b466-2c541ac24803",
   "metadata": {},
   "outputs": [
    {
     "data": {
      "text/plain": [
       "23"
      ]
     },
     "execution_count": 296,
     "metadata": {},
     "output_type": "execute_result"
    }
   ],
   "source": [
    "# Check the value of False Positive\n",
    "FP"
   ]
  },
  {
   "cell_type": "code",
   "execution_count": 297,
   "id": "24c65f87-fc5c-484d-835a-c4a6e83119ab",
   "metadata": {},
   "outputs": [
    {
     "name": "stdout",
     "output_type": "stream",
     "text": [
      "sensitivity 0.695\n",
      "specificity 0.885\n",
      "precision 0.8580246913580247\n"
     ]
    }
   ],
   "source": [
    "# List the various metrics data\n",
    "\n",
    "# Sensitivity\n",
    "sensitivity = TP / float(FN + TP)\n",
    "print(\"sensitivity\",sensitivity)\n",
    "\n",
    "# Specificity\n",
    "specificity = TN / float(TN + FP)\n",
    "print(\"specificity\",specificity)\n",
    "\n",
    "# Precision\n",
    "precision = TP / float(TP + FP)\n",
    "print(\"precision\",precision)"
   ]
  },
  {
   "cell_type": "code",
   "execution_count": 298,
   "id": "ef395821-c7d2-444e-8387-1ea28adfadfd",
   "metadata": {},
   "outputs": [
    {
     "name": "stdout",
     "output_type": "stream",
     "text": [
      "PRECISION SCORE : 0.8580246913580247\n",
      "RECALL SCORE : 0.695\n",
      "F1 SCORE : 0.7679558011049723\n"
     ]
    }
   ],
   "source": [
    "# Printing same metrics using in-built functions\n",
    "print(\"PRECISION SCORE :\",metrics.precision_score(y_test, y_pred_class))\n",
    "print(\"RECALL SCORE :\", metrics.recall_score(y_test, y_pred_class))\n",
    "print(\"F1 SCORE :\",metrics.f1_score(y_test, y_pred_class))"
   ]
  },
  {
   "cell_type": "markdown",
   "id": "62f29346-ca03-48d9-bbb9-a4e1bb22e299",
   "metadata": {},
   "source": [
    "The **Accuracy** (0.79) and **Specificity** (0.885) scores are quite decent in this model, but **Sensitivity** (0.695) is below par. We will try out Multinomial NB model next to check if it balances Sensitivity and Specificity better."
   ]
  },
  {
   "cell_type": "code",
   "execution_count": 300,
   "id": "9e05dba4-dbd2-4945-b7c2-b744d3758d7b",
   "metadata": {},
   "outputs": [
    {
     "data": {
      "text/plain": [
       "0.873"
      ]
     },
     "execution_count": 300,
     "metadata": {},
     "output_type": "execute_result"
    }
   ],
   "source": [
    "# creating an ROC curve\n",
    "from sklearn.metrics import confusion_matrix as sk_confusion_matrix\n",
    "from sklearn.metrics import roc_curve, auc\n",
    "import matplotlib.pyplot as plt\n",
    "\n",
    "false_positive_rate, true_positive_rate, thresholds = roc_curve(y_test, y_pred_proba[:,1], drop_intermediate = False)\n",
    "roc_auc = auc(false_positive_rate, true_positive_rate)\n",
    "\n",
    "# Print Area Under Curve(AUC)\n",
    "round(roc_auc, 3)"
   ]
  },
  {
   "cell_type": "code",
   "execution_count": 301,
   "id": "8f3a3fe1-6bdc-458a-ac4b-6120b043070c",
   "metadata": {},
   "outputs": [
    {
     "data": {
      "text/html": [
       "<div>\n",
       "<style scoped>\n",
       "    .dataframe tbody tr th:only-of-type {\n",
       "        vertical-align: middle;\n",
       "    }\n",
       "\n",
       "    .dataframe tbody tr th {\n",
       "        vertical-align: top;\n",
       "    }\n",
       "\n",
       "    .dataframe thead th {\n",
       "        text-align: right;\n",
       "    }\n",
       "</style>\n",
       "<table border=\"1\" class=\"dataframe\">\n",
       "  <thead>\n",
       "    <tr style=\"text-align: right;\">\n",
       "      <th></th>\n",
       "      <th>Threshold</th>\n",
       "      <th>TPR</th>\n",
       "      <th>FPR</th>\n",
       "    </tr>\n",
       "  </thead>\n",
       "  <tbody>\n",
       "    <tr>\n",
       "      <th>0</th>\n",
       "      <td>2.0</td>\n",
       "      <td>0.000</td>\n",
       "      <td>0.0</td>\n",
       "    </tr>\n",
       "    <tr>\n",
       "      <th>1</th>\n",
       "      <td>1.0</td>\n",
       "      <td>0.015</td>\n",
       "      <td>0.0</td>\n",
       "    </tr>\n",
       "    <tr>\n",
       "      <th>2</th>\n",
       "      <td>1.0</td>\n",
       "      <td>0.020</td>\n",
       "      <td>0.0</td>\n",
       "    </tr>\n",
       "    <tr>\n",
       "      <th>3</th>\n",
       "      <td>1.0</td>\n",
       "      <td>0.025</td>\n",
       "      <td>0.0</td>\n",
       "    </tr>\n",
       "    <tr>\n",
       "      <th>4</th>\n",
       "      <td>1.0</td>\n",
       "      <td>0.030</td>\n",
       "      <td>0.0</td>\n",
       "    </tr>\n",
       "  </tbody>\n",
       "</table>\n",
       "</div>"
      ],
      "text/plain": [
       "   Threshold    TPR  FPR\n",
       "0        2.0  0.000  0.0\n",
       "1        1.0  0.015  0.0\n",
       "2        1.0  0.020  0.0\n",
       "3        1.0  0.025  0.0\n",
       "4        1.0  0.030  0.0"
      ]
     },
     "execution_count": 301,
     "metadata": {},
     "output_type": "execute_result"
    }
   ],
   "source": [
    "# matrix of thresholds, tpr, fpr\n",
    "pd.DataFrame({'Threshold': thresholds, \n",
    "              'TPR': true_positive_rate, \n",
    "              'FPR':false_positive_rate\n",
    "             }).head()"
   ]
  },
  {
   "cell_type": "code",
   "execution_count": 302,
   "id": "a68b4098-c303-4d6b-90f5-28d619390ae7",
   "metadata": {},
   "outputs": [
    {
     "data": {
      "image/png": "[encoded data removed]",
      "text/plain": [
       "<Figure size 640x480 with 1 Axes>"
      ]
     },
     "metadata": {},
     "output_type": "display_data"
    }
   ],
   "source": [
    "# plotting the ROC curve\n",
    "%matplotlib inline  \n",
    "plt.plot(false_positive_rate, true_positive_rate, label='ROC curve (area = %0.2f)' % roc_auc)\n",
    "plt.plot([0, 1], [0, 1], 'k--')\n",
    "plt.ylabel('True Positive Rate')\n",
    "plt.xlabel('False Positive Rate')\n",
    "plt.xlim([0.0, 1.0])\n",
    "plt.ylim([0.0, 1.05])\n",
    "plt.title('Receiver Operating Characteristic (ROC)')\n",
    "plt.legend(loc=\"lower right\")\n",
    "plt.show()"
   ]
  },
  {
   "cell_type": "markdown",
   "id": "6073e9fb-7e26-4df0-8717-b89a5d663ef6",
   "metadata": {},
   "source": [
    "Area under ROC curve (0.87) is quite descent, but we will check if Multinomial model can improve it."
   ]
  },
  {
   "cell_type": "markdown",
   "id": "b0834763-def3-41bb-956d-8054fba217a9",
   "metadata": {
    "jp-MarkdownHeadingCollapsed": true
   },
   "source": [
    "### 4. Building Multinomial Naive Bayes Model"
   ]
  },
  {
   "cell_type": "code",
   "execution_count": 305,
   "id": "cfe26c8d-7874-4e4e-8544-2787e834bf6c",
   "metadata": {},
   "outputs": [
    {
     "data": {
      "text/html": [
       "<style>#sk-container-id-9 {color: black;background-color: white;}#sk-container-id-9 pre{padding: 0;}#sk-container-id-9 div.sk-toggleable {background-color: white;}#sk-container-id-9 label.sk-toggleable__label {cursor: pointer;display: block;width: 100%;margin-bottom: 0;padding: 0.3em;box-sizing: border-box;text-align: center;}#sk-container-id-9 label.sk-toggleable__label-arrow:before {content: \"▸\";float: left;margin-right: 0.25em;color: #696969;}#sk-container-id-9 label.sk-toggleable__label-arrow:hover:before {color: black;}#sk-container-id-9 div.sk-estimator:hover label.sk-toggleable__label-arrow:before {color: black;}#sk-container-id-9 div.sk-toggleable__content {max-height: 0;max-width: 0;overflow: hidden;text-align: left;background-color: #f0f8ff;}#sk-container-id-9 div.sk-toggleable__content pre {margin: 0.2em;color: black;border-radius: 0.25em;background-color: #f0f8ff;}#sk-container-id-9 input.sk-toggleable__control:checked~div.sk-toggleable__content {max-height: 200px;max-width: 100%;overflow: auto;}#sk-container-id-9 input.sk-toggleable__control:checked~label.sk-toggleable__label-arrow:before {content: \"▾\";}#sk-container-id-9 div.sk-estimator input.sk-toggleable__control:checked~label.sk-toggleable__label {background-color: #d4ebff;}#sk-container-id-9 div.sk-label input.sk-toggleable__control:checked~label.sk-toggleable__label {background-color: #d4ebff;}#sk-container-id-9 input.sk-hidden--visually {border: 0;clip: rect(1px 1px 1px 1px);clip: rect(1px, 1px, 1px, 1px);height: 1px;margin: -1px;overflow: hidden;padding: 0;position: absolute;width: 1px;}#sk-container-id-9 div.sk-estimator {font-family: monospace;background-color: #f0f8ff;border: 1px dotted black;border-radius: 0.25em;box-sizing: border-box;margin-bottom: 0.5em;}#sk-container-id-9 div.sk-estimator:hover {background-color: #d4ebff;}#sk-container-id-9 div.sk-parallel-item::after {content: \"\";width: 100%;border-bottom: 1px solid gray;flex-grow: 1;}#sk-container-id-9 div.sk-label:hover label.sk-toggleable__label {background-color: #d4ebff;}#sk-container-id-9 div.sk-serial::before {content: \"\";position: absolute;border-left: 1px solid gray;box-sizing: border-box;top: 0;bottom: 0;left: 50%;z-index: 0;}#sk-container-id-9 div.sk-serial {display: flex;flex-direction: column;align-items: center;background-color: white;padding-right: 0.2em;padding-left: 0.2em;position: relative;}#sk-container-id-9 div.sk-item {position: relative;z-index: 1;}#sk-container-id-9 div.sk-parallel {display: flex;align-items: stretch;justify-content: center;background-color: white;position: relative;}#sk-container-id-9 div.sk-item::before, #sk-container-id-9 div.sk-parallel-item::before {content: \"\";position: absolute;border-left: 1px solid gray;box-sizing: border-box;top: 0;bottom: 0;left: 50%;z-index: -1;}#sk-container-id-9 div.sk-parallel-item {display: flex;flex-direction: column;z-index: 1;position: relative;background-color: white;}#sk-container-id-9 div.sk-parallel-item:first-child::after {align-self: flex-end;width: 50%;}#sk-container-id-9 div.sk-parallel-item:last-child::after {align-self: flex-start;width: 50%;}#sk-container-id-9 div.sk-parallel-item:only-child::after {width: 0;}#sk-container-id-9 div.sk-dashed-wrapped {border: 1px dashed gray;margin: 0 0.4em 0.5em 0.4em;box-sizing: border-box;padding-bottom: 0.4em;background-color: white;}#sk-container-id-9 div.sk-label label {font-family: monospace;font-weight: bold;display: inline-block;line-height: 1.2em;}#sk-container-id-9 div.sk-label-container {text-align: center;}#sk-container-id-9 div.sk-container {/* jupyter's `normalize.less` sets `[hidden] { display: none; }` but bootstrap.min.css set `[hidden] { display: none !important; }` so we also need the `!important` here to be able to override the default hidden behavior on the sphinx rendered scikit-learn.org. See: https://github.com/scikit-learn/scikit-learn/issues/21755 */display: inline-block !important;position: relative;}#sk-container-id-9 div.sk-text-repr-fallback {display: none;}</style><div id=\"sk-container-id-9\" class=\"sk-top-container\"><div class=\"sk-text-repr-fallback\"><pre>MultinomialNB()</pre><b>In a Jupyter environment, please rerun this cell to show the HTML representation or trust the notebook. <br />On GitHub, the HTML representation is unable to render, please try loading this page with nbviewer.org.</b></div><div class=\"sk-container\" hidden><div class=\"sk-item\"><div class=\"sk-estimator sk-toggleable\"><input class=\"sk-toggleable__control sk-hidden--visually\" id=\"sk-estimator-id-9\" type=\"checkbox\" checked><label for=\"sk-estimator-id-9\" class=\"sk-toggleable__label sk-toggleable__label-arrow\">MultinomialNB</label><div class=\"sk-toggleable__content\"><pre>MultinomialNB()</pre></div></div></div></div></div>"
      ],
      "text/plain": [
       "MultinomialNB()"
      ]
     },
     "execution_count": 305,
     "metadata": {},
     "output_type": "execute_result"
    }
   ],
   "source": [
    "# Training the NB model and making predictions\n",
    "mnb = MultinomialNB()\n",
    "\n",
    "# fit\n",
    "mnb.fit(X_train_nb,y_train)"
   ]
  },
  {
   "cell_type": "markdown",
   "id": "7fc256ba-2e9c-4cc0-b738-aeae3e6f4670",
   "metadata": {},
   "source": [
    "### 5. Evaluating the Multinomial Naive Bayes Model"
   ]
  },
  {
   "cell_type": "code",
   "execution_count": 307,
   "id": "9ca59f69-5997-4df4-9761-32eefcb65ad0",
   "metadata": {},
   "outputs": [
    {
     "data": {
      "text/plain": [
       "1.0"
      ]
     },
     "execution_count": 307,
     "metadata": {},
     "output_type": "execute_result"
    }
   ],
   "source": [
    "# Check the alpha which is by default=1\n",
    "mnb.alpha"
   ]
  },
  {
   "cell_type": "code",
   "execution_count": 308,
   "id": "5b08ee0b-afd3-4df7-852b-7826acff4a7a",
   "metadata": {},
   "outputs": [
    {
     "data": {
      "text/plain": [
       "0.8275"
      ]
     },
     "execution_count": 308,
     "metadata": {},
     "output_type": "execute_result"
    }
   ],
   "source": [
    "# Predict using test data\n",
    "y_pred_class = mnb.predict(X_test_nb)\n",
    "\n",
    "# Predict the probabilities\n",
    "y_pred_proba = mnb.predict_proba(X_test_nb)\n",
    "\n",
    "# help(metrics.accuracy_score)\n",
    "metrics.accuracy_score(y_test, y_pred_class)"
   ]
  },
  {
   "cell_type": "code",
   "execution_count": 309,
   "id": "3694ec40-027a-4b5d-953d-c4088d0510e3",
   "metadata": {},
   "outputs": [
    {
     "data": {
      "text/plain": [
       "array([[172,  28],\n",
       "       [ 41, 159]])"
      ]
     },
     "execution_count": 309,
     "metadata": {},
     "output_type": "execute_result"
    }
   ],
   "source": [
    "# Review the confusion metrix\n",
    "confusion = metrics.confusion_matrix(y_test, y_pred_class)\n",
    "confusion"
   ]
  },
  {
   "cell_type": "code",
   "execution_count": 310,
   "id": "b5a2d8f3-ea33-43f9-ae34-f425c30f3608",
   "metadata": {},
   "outputs": [],
   "source": [
    "# Assign the cells values of Confusion Metrics\n",
    "# 0 -> Negative Reviews and 1 -> Positive Reviews\n",
    "TN = confusion[0,0]\n",
    "FP = confusion[0,1]\n",
    "FN = confusion[1,0]\n",
    "TP = confusion[1,1]"
   ]
  },
  {
   "cell_type": "code",
   "execution_count": 311,
   "id": "5ca2100d-c379-4cb1-b7b5-08a226f1e473",
   "metadata": {},
   "outputs": [
    {
     "name": "stdout",
     "output_type": "stream",
     "text": [
      "Sensitivity:  0.795\n",
      "Specificity:  0.860\n",
      "Precision:  0.850\n"
     ]
    }
   ],
   "source": [
    "# Compute the various metrics values\n",
    "\n",
    "# Sensitivity\n",
    "print(f\"Sensitivity: {TP/float(TP+FN): 0.3f}\")\n",
    "\n",
    "# Specificity\n",
    "print(f\"Specificity: {TN/float(TN+FP): 0.3f}\")\n",
    "\n",
    "# Precision\n",
    "print(f\"Precision: {TP/float(TP+FP): 0.3f}\")"
   ]
  },
  {
   "cell_type": "code",
   "execution_count": 312,
   "id": "cdec308e-093d-4467-bc57-0f0930658f5c",
   "metadata": {},
   "outputs": [
    {
     "name": "stdout",
     "output_type": "stream",
     "text": [
      "PRECISION SCORE : 0.850\n",
      "RECALL or SENSITIVITY SCORE : 0.795\n",
      "F1 SCORE : 0.822\n"
     ]
    }
   ],
   "source": [
    "# Confirm the above computation using in-built functions\n",
    "print(\"PRECISION SCORE : {:0.3f}\".format(metrics.precision_score(y_test, y_pred_class)))\n",
    "print(\"RECALL or SENSITIVITY SCORE :\", metrics.recall_score(y_test, y_pred_class))\n",
    "print(\"F1 SCORE : {:0.3f}\".format(metrics.f1_score(y_test, y_pred_class)))"
   ]
  },
  {
   "cell_type": "markdown",
   "id": "e34d6f2f-f32c-4e4e-9650-2a6807172d51",
   "metadata": {},
   "source": [
    "The **Accuracy** (0.827) score has improved slightly over Bernoulli's model. The **Specificity** (0.860) score is stable, but **Sensitivity** (0.795) got a significant improvement. This is a better model with improved trade-off among the metric scores."
   ]
  },
  {
   "cell_type": "code",
   "execution_count": 314,
   "id": "8e50664f-12c6-4216-acbd-17aa3d826a31",
   "metadata": {},
   "outputs": [
    {
     "data": {
      "text/plain": [
       "0.888"
      ]
     },
     "execution_count": 314,
     "metadata": {},
     "output_type": "execute_result"
    }
   ],
   "source": [
    "# Display the ROC curve\n",
    "false_positive_rate, true_positive_rate, thresholds = roc_curve(y_test, y_pred_proba[:,1], drop_intermediate = False)\n",
    "roc_auc = auc(false_positive_rate, true_positive_rate)\n",
    "\n",
    "# Print Area Under Curve(AUC)\n",
    "round(roc_auc, 3)"
   ]
  },
  {
   "cell_type": "code",
   "execution_count": 315,
   "id": "7e8296cb-e1a4-4415-b74c-ea46456e3c76",
   "metadata": {},
   "outputs": [
    {
     "data": {
      "image/png": "[encoded data removed]",
      "text/plain": [
       "<Figure size 640x480 with 1 Axes>"
      ]
     },
     "metadata": {},
     "output_type": "display_data"
    }
   ],
   "source": [
    "# plotting the ROC curve\n",
    "%matplotlib inline  \n",
    "plt.plot(false_positive_rate, true_positive_rate, label='ROC curve (area = %0.2f)' % roc_auc)\n",
    "plt.plot([0, 1], [0, 1], 'k--')\n",
    "plt.ylabel('True Positive Rate')\n",
    "plt.xlabel('False Positive Rate')\n",
    "plt.xlim([0.0, 1.0])\n",
    "plt.ylim([0.0, 1.05])\n",
    "plt.title('Receiver Operating Characteristic (ROC)')\n",
    "plt.legend(loc=\"lower right\")\n",
    "plt.show()"
   ]
  },
  {
   "cell_type": "markdown",
   "id": "95eb1b7e-54eb-44b1-addb-c7b727ae192a",
   "metadata": {},
   "source": [
    "There is no significant increase in the area under ROC cureve over the Bernoulli's model"
   ]
  },
  {
   "cell_type": "code",
   "execution_count": 317,
   "id": "c1e60adf-6333-429f-a9bf-2cec8301bc5e",
   "metadata": {},
   "outputs": [
    {
     "name": "stdout",
     "output_type": "stream",
     "text": [
      "Top Positive Words: ['movie', 'like', 'time', 'just', 'good', 'story', 'way', 'does', 'character', 'make']\n",
      "Top Positive Probabilities: [0.74, 0.71, 0.65, 0.63, 0.61, 0.57, 0.54, 0.53, 0.53, 0.5]\n",
      "Top Negative Words: ['movie', 'like', 'just', 'time', 'good', 'make', 'bad', 'plot', 'character', 'story']\n",
      "Top Negative Probabilities: [0.82, 0.77, 0.69, 0.62, 0.59, 0.52, 0.52, 0.51, 0.51, 0.5]\n"
     ]
    }
   ],
   "source": [
    "# Get the log probabilities for each class (positive and negative)\n",
    "log_prob = bnb.feature_log_prob_\n",
    "\n",
    "# Get the feature names (words)\n",
    "feature_names = vect.get_feature_names_out()\n",
    "\n",
    "# Sort the words for positive sentiment (class 1)\n",
    "top_positive_indices = np.argsort(log_prob[1])[::-1]\n",
    "top_positive_words = [feature_names[i] for i in top_positive_indices[:10]]\n",
    "top_positive_probs = [round(np.exp(log_prob[1][i]), 2) for i in top_positive_indices[:10]]\n",
    "\n",
    "# Sort the words for negative sentiment (class 0)\n",
    "top_negative_indices = np.argsort(log_prob[0])[::-1]\n",
    "top_negative_words = [feature_names[i] for i in top_negative_indices[:10]]\n",
    "top_negative_probs = [round(np.exp(log_prob[0][i]), 2) for i in top_negative_indices[:10]]\n",
    "\n",
    "print(\"Top Positive Words:\", top_positive_words)\n",
    "print(\"Top Positive Probabilities:\", top_positive_probs)\n",
    "print(\"Top Negative Words:\", top_negative_words)\n",
    "print(\"Top Negative Probabilities:\", top_negative_probs)"
   ]
  },
  {
   "cell_type": "markdown",
   "id": "4dc49290-5c0c-49b4-8515-adb93c21d8db",
   "metadata": {},
   "source": [
    "### 6. Conclusion"
   ]
  },
  {
   "cell_type": "markdown",
   "id": "73d03478-adea-4c1e-8f6c-79dec083bfd5",
   "metadata": {},
   "source": [
    "We’ve built a sentiment analysis model to help understand customer opinions on movies by predicting whether a review is positive or negative. It helps in gauging overall customer sentiment for movies, which can influence business decisions.\n",
    "\n",
    "Multinomial Naive Bayes is slightly improved model over the Bernoulli's model. The model performance found are as follows:\n",
    "\n",
    "* The model correctly predicts review sentiment with an **accuracy** of 83%\n",
    "* Out of all positive reviews, it identifies 79.5% correctly (recall)\n",
    "* Out of all predicted positive reviews, 85% are truly positive (precision)\n",
    "\n",
    "The model works by identifying specific words that tend to show up in positive or negative reviews. For instance, if a review contains words like \"like\", \"good\", or \"story\", the model will predict a positive sentiment. If it finds words like \"bad\", \"plot\", or \"waste\", it will predict a negative sentiment."
   ]
  }
 ],
 "metadata": {
  "kernelspec": {
   "display_name": "Python 3 (ipykernel)",
   "language": "python",
   "name": "python3"
  },
  "language_info": {
   "codemirror_mode": {
    "name": "ipython",
    "version": 3
   },
   "file_extension": ".py",
   "mimetype": "text/x-python",
   "name": "python",
   "nbconvert_exporter": "python",
   "pygments_lexer": "ipython3",
   "version": "3.11.7"
  }
 },
 "nbformat": 4,
 "nbformat_minor": 5
}
